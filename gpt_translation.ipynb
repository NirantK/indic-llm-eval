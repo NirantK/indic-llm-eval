{
 "cells": [
  {
   "cell_type": "code",
   "execution_count": 98,
   "id": "c0042a34-fd20-4d17-a35c-0110779f00e7",
   "metadata": {},
   "outputs": [],
   "source": [
    "import os\n",
    "import csv\n",
    "import time\n",
    "import pandas as pd\n",
    "from datasets import load_dataset\n",
    "from concurrent.futures import ThreadPoolExecutor    # Concurrent execution using threads\n",
    "from openai import OpenAI"
   ]
  },
  {
   "cell_type": "code",
   "execution_count": 99,
   "id": "d0c65ade-617e-40d8-822e-c41683a892e1",
   "metadata": {},
   "outputs": [],
   "source": [
    "os.environ[\"OPENAI_API_KEY\"] = \"api_key\""
   ]
  },
  {
   "cell_type": "code",
   "execution_count": 4,
   "id": "712bf570-0037-4eb2-aa5e-39771ff7e9b6",
   "metadata": {},
   "outputs": [],
   "source": [
    "# provide dataset name among ai2_arc, gsm8k, lukaemon/mmlu\n",
    "dataset_name = \"ai2_arc\""
   ]
  },
  {
   "cell_type": "code",
   "execution_count": 5,
   "id": "47cebb71-1cf9-4f17-b6df-0e43c1a73781",
   "metadata": {},
   "outputs": [],
   "source": [
    "if(dataset_name == \"ai2_arc\"):\n",
    "    possible_configs = [\n",
    "    'ARC-Challenge',\n",
    "    'ARC-Easy'\n",
    "    ]\n",
    "    # columns to translate\n",
    "    columns = ['question','choices']\n",
    "    # columns not to translate, to keep in converted dataset as is.\n",
    "    columns_asis = ['id','answerKey']\n",
    "\n",
    "elif(dataset_name == \"gsm8k\"):\n",
    "    possible_configs = [\n",
    "    \"main\",\n",
    "    \"socratic\"\n",
    "    ]\n",
    "    # columns to translate\n",
    "    columns = ['question','answer']\n",
    "    # columns not to translate, to keep in converted dataset as is.\n",
    "    columns_asis = []\n",
    "    \n",
    "elif(dataset_name == \"lukaemon/mmlu\"):\n",
    "    possible_configs = [\n",
    "    \"high_school_european_history\",\n",
    "    \"business_ethics\",\n",
    "    \"clinical_knowledge\",\n",
    "    \"medical_genetics\",\n",
    "    \"high_school_us_history\",\n",
    "    \"high_school_physics\",\n",
    "    \"high_school_world_history\",\n",
    "    \"virology\",\n",
    "    \"high_school_microeconomics\",\n",
    "    \"econometrics\",\n",
    "    \"college_computer_science\",\n",
    "    \"high_school_biology\",\n",
    "    \"abstract_algebra\",\n",
    "    \"professional_accounting\",\n",
    "    \"philosophy\",\n",
    "    \"professional_medicine\",\n",
    "    \"nutrition\",\n",
    "    \"global_facts\",\n",
    "    \"machine_learning\",\n",
    "    \"security_studies\",\n",
    "    \"public_relations\",\n",
    "    \"professional_psychology\",\n",
    "    \"prehistory\",\n",
    "    \"anatomy\",\n",
    "    \"human_sexuality\",\n",
    "    \"college_medicine\",\n",
    "    \"high_school_government_and_politics\",\n",
    "    \"college_chemistry\",\n",
    "    \"logical_fallacies\",\n",
    "    \"high_school_geography\",\n",
    "    \"elementary_mathematics\",\n",
    "    \"human_aging\",\n",
    "    \"college_mathematics\",\n",
    "    \"high_school_psychology\",\n",
    "    \"formal_logic\",\n",
    "    \"high_school_statistics\",\n",
    "    \"international_law\",\n",
    "    \"high_school_mathematics\",\n",
    "    \"high_school_computer_science\",\n",
    "    \"conceptual_physics\",\n",
    "    \"miscellaneous\",\n",
    "    \"high_school_chemistry\",\n",
    "    \"marketing\",\n",
    "    \"professional_law\",\n",
    "    \"management\",\n",
    "    \"college_physics\",\n",
    "    \"jurisprudence\",\n",
    "    \"world_religions\",\n",
    "    \"sociology\",\n",
    "    \"us_foreign_policy\",\n",
    "    \"high_school_macroeconomics\",\n",
    "    \"computer_security\",\n",
    "    \"moral_scenarios\",\n",
    "    \"moral_disputes\",\n",
    "    \"electrical_engineering\",\n",
    "    \"astronomy\",\n",
    "    \"college_biology\",\n",
    "    ]\n",
    "    # columns to translate\n",
    "    columns = ['input','A','B','C','D']\n",
    "    # columns not to translate, to keep in converted dataset as is.\n",
    "    columns_asis = ['target']"
   ]
  },
  {
   "cell_type": "code",
   "execution_count": 6,
   "id": "7725b9a2-5975-46c6-8505-b2bf76f6efaf",
   "metadata": {},
   "outputs": [
    {
     "name": "stderr",
     "output_type": "stream",
     "text": [
      "C:\\Users\\karti\\AppData\\Local\\Programs\\Python\\Python311\\Lib\\site-packages\\datasets\\load.py:1760: FutureWarning: 'ignore_verifications' was deprecated in favor of 'verification_mode' in version 2.9.1 and will be removed in 3.0.0.\n",
      "You can remove this warning by passing 'verification_mode=no_checks' instead.\n",
      "  warnings.warn(\n",
      "Found cached dataset parquet (C:/Users/karti/.cache/huggingface/datasets/parquet/ARC-Challenge-6372c4cac1109a78/0.0.0/14a00e99c0d15a23649d0db8944380ac81082d4b021f398733dd84f3a6c569a7)\n"
     ]
    },
    {
     "data": {
      "application/vnd.jupyter.widget-view+json": {
       "model_id": "2f8f140a1fa14dd980a3589dbd5b39eb",
       "version_major": 2,
       "version_minor": 0
      },
      "text/plain": [
       "  0%|          | 0/3 [00:00<?, ?it/s]"
      ]
     },
     "metadata": {},
     "output_type": "display_data"
    },
    {
     "name": "stderr",
     "output_type": "stream",
     "text": [
      "C:\\Users\\karti\\AppData\\Local\\Programs\\Python\\Python311\\Lib\\site-packages\\datasets\\load.py:1760: FutureWarning: 'ignore_verifications' was deprecated in favor of 'verification_mode' in version 2.9.1 and will be removed in 3.0.0.\n",
      "You can remove this warning by passing 'verification_mode=no_checks' instead.\n",
      "  warnings.warn(\n",
      "Found cached dataset parquet (C:/Users/karti/.cache/huggingface/datasets/parquet/ARC-Challenge-6372c4cac1109a78/0.0.0/14a00e99c0d15a23649d0db8944380ac81082d4b021f398733dd84f3a6c569a7)\n"
     ]
    },
    {
     "data": {
      "application/vnd.jupyter.widget-view+json": {
       "model_id": "1ab7c1dc0d5c4943b36fd92f246aa342",
       "version_major": 2,
       "version_minor": 0
      },
      "text/plain": [
       "  0%|          | 0/3 [00:00<?, ?it/s]"
      ]
     },
     "metadata": {},
     "output_type": "display_data"
    }
   ],
   "source": [
    "dataset = []\n",
    "for config in possible_configs:\n",
    "    dataset_slice = load_dataset(dataset_name, config,ignore_verifications=True)\n",
    "    dataset.append(dataset_slice)"
   ]
  },
  {
   "cell_type": "code",
   "execution_count": 92,
   "id": "7326f435-ceb9-46a6-9968-5d08da04f9fa",
   "metadata": {},
   "outputs": [],
   "source": [
    "client = OpenAI()\n",
    "def translate_gpt(text: str):\n",
    "    completion = client.chat.completions.create(\n",
    "      model=\"gpt-3.5-turbo\",\n",
    "      messages=[\n",
    "            {\"role\": \"system\", \"content\": \"romanize the given text in english to hinglish.(written in english but sounding like hindi)\"},\n",
    "            {\"role\": \"system\", \"content\": \"how are you becomes - kaise ho ap\"},\n",
    "            {\"role\": \"system\", \"content\": \"numbers, nouns, verbs stay in English and rest is in Hindi. Do not give original text back\"},\n",
    "            {\"role\": \"system\", \"content\": \"do not translate to hindi, translate to hinglish\"},\n",
    "            {\"role\": \"user\", \"content\": text}\n",
    "        ]\n",
    "    )\n",
    "    return completion.choices[0].message.content"
   ]
  },
  {
   "cell_type": "code",
   "execution_count": 93,
   "id": "3b2cbe9a-8b93-47d8-aedf-de10e6e5c8a5",
   "metadata": {},
   "outputs": [
    {
     "name": "stdout",
     "output_type": "stream",
     "text": [
      "{ \"text\": [ \"flowing magma ki thandi hona.\", \"crustal plates ki sanyojan.\", \"river sediments ki raksha.\", \"carbonate minerals ki hal\" ], \"label\": [ \"A\", \"B\", \"C\", \"D\" ] }\n"
     ]
    }
   ],
   "source": [
    "res = translate_gpt('{ \"text\": [ \"cooling of flowing magma.\", \"converging of crustal plates.\", \"deposition of river sediments.\", \"solution of carbonate minerals.\" ], \"label\": [ \"A\", \"B\", \"C\", \"D\" ] }')\n",
    "print(res)"
   ]
  },
  {
   "cell_type": "code",
   "execution_count": 100,
   "id": "4437556a-4f17-4d1e-a0b6-30e352703d03",
   "metadata": {},
   "outputs": [
    {
     "data": {
      "text/plain": [
       "'The end result in the process of photosynthesis is sugar aur oxygen ki utpadan. Konsa kadam ishara deta hai photosynthesis ki shuruat ka?'"
      ]
     },
     "execution_count": 100,
     "metadata": {},
     "output_type": "execute_result"
    }
   ],
   "source": [
    "translate_gpt('The end result in the process of photosynthesis is the production of sugar and oxygen. Which step signals the beginning of photosynthesis?')"
   ]
  },
  {
   "cell_type": "code",
   "execution_count": 96,
   "id": "e282f8fe-d30c-4290-9856-d14b562ae4bb",
   "metadata": {},
   "outputs": [
    {
     "name": "stdout",
     "output_type": "stream",
     "text": [
      "CPU times: total: 1.36 s\n",
      "Wall time: 1min 10s\n"
     ]
    }
   ],
   "source": [
    "%%time\n",
    "\n",
    "for i in range(len(possible_configs)):\n",
    "    for set in dataset[i]:\n",
    "        set_list = []\n",
    "        \n",
    "        for col in columns:\n",
    "            values = [str(item[col]) for item in dataset[i][set]]\n",
    "            \n",
    "            # Use ThreadPoolExecutor for parallel translation\n",
    "            if __name__ == '__main__':\n",
    "                result =[]\n",
    "                with ThreadPoolExecutor(max_workers=16) as exe:\n",
    "                    # Maps the method with a list of values.\n",
    "                    # result = list(exe.map(translate_gpt,values[:1]))\n",
    "                    \n",
    "                    batch_size = 1\n",
    "                    for j in range(0,len(values[:3]),batch_size):\n",
    "                        j_end = min(j + batch_size, len(values[:3]))\n",
    "                        res = list(exe.map(translate_gpt,values[j:j_end]))\n",
    "                        # time.sleep(2)\n",
    "                        result.extend(res)\n",
    "                    \n",
    "            set_list.append(result)\n",
    "\n",
    "        # Create folders for each configuration\n",
    "        current_directory = os.getcwd()\n",
    "        \n",
    "        # Specify the path of the 'config' folder\n",
    "        config_folder_path = os.path.join(current_directory, possible_configs[i])\n",
    "        \n",
    "        # Create the 'config' folder\n",
    "        os.makedirs(config_folder_path, exist_ok=True) \n",
    "    \n",
    "        # Transpose the 2D list\n",
    "        transposed_data = list(map(list, zip(*set_list)))\n",
    "        \n",
    "        # to add untranslated columns in dataset\n",
    "        for row in range(len(transposed_data)):\n",
    "            for col in columns_asis:\n",
    "                if col=='id':\n",
    "                        position = 0\n",
    "                else:\n",
    "                    position = len(transposed_data[row])\n",
    "                transposed_data[row].insert(position, dataset[i][set][col][row]) \n",
    "        \n",
    "            \n",
    "        path = os.path.join(possible_configs[i], f'{set}.csv')\n",
    "\n",
    "        # append to previosly created csv file in case full dataset was not converted\n",
    "        with open(path, 'a', encoding='utf-8') as f:\n",
    "            # using csv.writer method from CSV package\n",
    "            write = csv.writer(f)\n",
    "            # write.writerow(columns)\n",
    "            write.writerows(transposed_data)\n"
   ]
  },
  {
   "cell_type": "code",
   "execution_count": 97,
   "id": "a26677e3-511f-46ed-91e1-a8eedeb80bc3",
   "metadata": {},
   "outputs": [
    {
     "name": "stdout",
     "output_type": "stream",
     "text": [
      "ARC-Easy\\test.csv\n"
     ]
    },
    {
     "data": {
      "text/html": [
       "<div>\n",
       "<style scoped>\n",
       "    .dataframe tbody tr th:only-of-type {\n",
       "        vertical-align: middle;\n",
       "    }\n",
       "\n",
       "    .dataframe tbody tr th {\n",
       "        vertical-align: top;\n",
       "    }\n",
       "\n",
       "    .dataframe thead th {\n",
       "        text-align: right;\n",
       "    }\n",
       "</style>\n",
       "<table border=\"1\" class=\"dataframe\">\n",
       "  <thead>\n",
       "    <tr style=\"text-align: right;\">\n",
       "      <th></th>\n",
       "      <th>0</th>\n",
       "      <th>1</th>\n",
       "      <th>2</th>\n",
       "      <th>3</th>\n",
       "    </tr>\n",
       "  </thead>\n",
       "  <tbody>\n",
       "    <tr>\n",
       "      <th>0</th>\n",
       "      <td>Mercury_7175875</td>\n",
       "      <td>Ek astronoom dekhta hai ki ek planet ek meteor...</td>\n",
       "      <td>{'text': ['Planetary density will decrease.', ...</td>\n",
       "      <td>C</td>\n",
       "    </tr>\n",
       "    <tr>\n",
       "      <th>1</th>\n",
       "      <td>Mercury_SC_409171</td>\n",
       "      <td>एक समूह के इंजीनियर्स ने जानना चाहा कि भूकंप क...</td>\n",
       "      <td>'buildings will be built faster' -&gt; 'buildings...</td>\n",
       "      <td>B</td>\n",
       "    </tr>\n",
       "    <tr>\n",
       "      <th>2</th>\n",
       "      <td>Mercury_SC_408547</td>\n",
       "      <td>The end result in the process of photosynthesi...</td>\n",
       "      <td>{'text': ['Chemical energy roots mein se graha...</td>\n",
       "      <td>C</td>\n",
       "    </tr>\n",
       "  </tbody>\n",
       "</table>\n",
       "</div>"
      ],
      "text/plain": [
       "                   0                                                  1  \\\n",
       "0    Mercury_7175875  Ek astronoom dekhta hai ki ek planet ek meteor...   \n",
       "1  Mercury_SC_409171  एक समूह के इंजीनियर्स ने जानना चाहा कि भूकंप क...   \n",
       "2  Mercury_SC_408547  The end result in the process of photosynthesi...   \n",
       "\n",
       "                                                   2  3  \n",
       "0  {'text': ['Planetary density will decrease.', ...  C  \n",
       "1  'buildings will be built faster' -> 'buildings...  B  \n",
       "2  {'text': ['Chemical energy roots mein se graha...  C  "
      ]
     },
     "execution_count": 97,
     "metadata": {},
     "output_type": "execute_result"
    }
   ],
   "source": [
    "print(path)\n",
    "df = pd.read_csv(path, header=None)\n",
    "\n",
    "# Print the DataFrame\n",
    "df.head()"
   ]
  },
  {
   "cell_type": "code",
   "execution_count": null,
   "id": "3de84b7b-3a3a-4064-a55b-3481697f7dec",
   "metadata": {},
   "outputs": [],
   "source": []
  }
 ],
 "metadata": {
  "kernelspec": {
   "display_name": "Python 3 (ipykernel)",
   "language": "python",
   "name": "python3"
  },
  "language_info": {
   "codemirror_mode": {
    "name": "ipython",
    "version": 3
   },
   "file_extension": ".py",
   "mimetype": "text/x-python",
   "name": "python",
   "nbconvert_exporter": "python",
   "pygments_lexer": "ipython3",
   "version": "3.11.3"
  }
 },
 "nbformat": 4,
 "nbformat_minor": 5
}
