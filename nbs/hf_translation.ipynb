{
 "cells": [
  {
   "cell_type": "code",
   "execution_count": 1,
   "id": "097cda4f-0fa5-4d7c-9a41-ad59932b1785",
   "metadata": {},
   "outputs": [
    {
     "name": "stderr",
     "output_type": "stream",
     "text": [
      "C:\\Users\\karti\\AppData\\Local\\Programs\\Python\\Python311\\Lib\\site-packages\\numpy\\_distributor_init.py:30: UserWarning: loaded more than 1 DLL from .libs:\n",
      "C:\\Users\\karti\\AppData\\Local\\Programs\\Python\\Python311\\Lib\\site-packages\\numpy\\.libs\\libopenblas.FB5AE2TYXYH2IJRDKGDGQ3XBKLKTF43H.gfortran-win_amd64.dll\n",
      "C:\\Users\\karti\\AppData\\Local\\Programs\\Python\\Python311\\Lib\\site-packages\\numpy\\.libs\\libopenblas64__v0.3.21-gcc_10_3_0.dll\n",
      "  warnings.warn(\"loaded more than 1 DLL from .libs:\"\n"
     ]
    }
   ],
   "source": [
    "import os\n",
    "import csv\n",
    "import time\n",
    "import torch\n",
    "from datasets import load_dataset\n",
    "from google.cloud import translate_v2 as translate\n",
    "from concurrent.futures import ThreadPoolExecutor    # Concurrent execution using threads\n",
    "gcp_project_id = \"artful-tractor-338209\"   # Set the Google Cloud Project ID"
   ]
  },
  {
   "cell_type": "markdown",
   "id": "b443f39a-6bf7-4750-ba2c-c3ecab3cc701",
   "metadata": {},
   "source": [
    "## Create a Service Account:\n",
    "After setting up project, enabling cloud translation api and setting billing account, In the Cloud Console, navigate to \"IAM & Admin\" > \"Service accounts.\" Click \"Create Service Account.\" Enter a name for service account, select the role(s) that service account needs (Cloud Translation API Editor), and click \"Continue.\"\n",
    "\n",
    "## Generate Key:\n",
    "After creating the service account, click on it in the \"Service accounts\" page. Navigate to the \"Keys\" tab. Click on \"Add Key\" and choose \"JSON.\" This will download a JSON key file containing the necessary credentials."
   ]
  },
  {
   "cell_type": "code",
   "execution_count": 2,
   "id": "85da1c90-309c-4b95-a8e3-af8ecec5985c",
   "metadata": {},
   "outputs": [],
   "source": [
    "# give path to json key file\n",
    "\n",
    "credential_path = \"C:/Users/karti/Desktop/ComputerScience/internships/Nirant2/artful-tractor-338209-61f5638878ce.json\"\n",
    "os.environ['GOOGLE_APPLICATION_CREDENTIALS'] = credential_path"
   ]
  },
  {
   "cell_type": "code",
   "execution_count": 3,
   "id": "aae42486-d82e-4393-a2de-7e79d18c9aa2",
   "metadata": {},
   "outputs": [
    {
     "name": "stderr",
     "output_type": "stream",
     "text": [
      "C:\\Users\\karti\\AppData\\Local\\Programs\\Python\\Python311\\Lib\\site-packages\\datasets\\load.py:1760: FutureWarning: 'ignore_verifications' was deprecated in favor of 'verification_mode' in version 2.9.1 and will be removed in 3.0.0.\n",
      "You can remove this warning by passing 'verification_mode=no_checks' instead.\n",
      "  warnings.warn(\n",
      "Found cached dataset parquet (C:/Users/karti/.cache/huggingface/datasets/parquet/ARC-Challenge-6372c4cac1109a78/0.0.0/14a00e99c0d15a23649d0db8944380ac81082d4b021f398733dd84f3a6c569a7)\n"
     ]
    },
    {
     "data": {
      "application/vnd.jupyter.widget-view+json": {
       "model_id": "c4dd968e88f149fda3ead51b6097e66b",
       "version_major": 2,
       "version_minor": 0
      },
      "text/plain": [
       "  0%|          | 0/3 [00:00<?, ?it/s]"
      ]
     },
     "metadata": {},
     "output_type": "display_data"
    },
    {
     "name": "stderr",
     "output_type": "stream",
     "text": [
      "C:\\Users\\karti\\AppData\\Local\\Programs\\Python\\Python311\\Lib\\site-packages\\datasets\\load.py:1760: FutureWarning: 'ignore_verifications' was deprecated in favor of 'verification_mode' in version 2.9.1 and will be removed in 3.0.0.\n",
      "You can remove this warning by passing 'verification_mode=no_checks' instead.\n",
      "  warnings.warn(\n",
      "Found cached dataset parquet (C:/Users/karti/.cache/huggingface/datasets/parquet/ARC-Challenge-6372c4cac1109a78/0.0.0/14a00e99c0d15a23649d0db8944380ac81082d4b021f398733dd84f3a6c569a7)\n"
     ]
    },
    {
     "data": {
      "application/vnd.jupyter.widget-view+json": {
       "model_id": "b59e71ddaa004156a61fc272cd248d8a",
       "version_major": 2,
       "version_minor": 0
      },
      "text/plain": [
       "  0%|          | 0/3 [00:00<?, ?it/s]"
      ]
     },
     "metadata": {},
     "output_type": "display_data"
    }
   ],
   "source": [
    "possible_configs = [\n",
    "    # \"main\",\n",
    "    # \"socratic\",\n",
    "    'ARC-Challenge',\n",
    "    'ARC-Easy',\n",
    "    # 'bbc hindi nli'\n",
    "]\n",
    "dataset = []\n",
    "for config in possible_configs:\n",
    "    dataset_slice = load_dataset(\"ai2_arc\", config,ignore_verifications=True)\n",
    "    dataset.append(dataset_slice)"
   ]
  },
  {
   "cell_type": "code",
   "execution_count": 4,
   "id": "de12efd8-21be-4dcd-96b3-9e802f50e053",
   "metadata": {},
   "outputs": [
    {
     "name": "stdout",
     "output_type": "stream",
     "text": [
      "Dataset({\n",
      "    features: ['id', 'question', 'choices', 'answerKey'],\n",
      "    num_rows: 3370\n",
      "})\n",
      "Dataset({\n",
      "    features: ['id', 'question', 'choices', 'answerKey'],\n",
      "    num_rows: 3548\n",
      "})\n",
      "Dataset({\n",
      "    features: ['id', 'question', 'choices', 'answerKey'],\n",
      "    num_rows: 869\n",
      "})\n",
      "Dataset({\n",
      "    features: ['id', 'question', 'choices', 'answerKey'],\n",
      "    num_rows: 3370\n",
      "})\n",
      "Dataset({\n",
      "    features: ['id', 'question', 'choices', 'answerKey'],\n",
      "    num_rows: 3548\n",
      "})\n",
      "Dataset({\n",
      "    features: ['id', 'question', 'choices', 'answerKey'],\n",
      "    num_rows: 869\n",
      "})\n"
     ]
    }
   ],
   "source": [
    "# dataset\n",
    "for g in dataset:\n",
    "    print(g['train'])\n",
    "    print(g['test'])\n",
    "    print(g['validation'])"
   ]
  },
  {
   "cell_type": "code",
   "execution_count": 46,
   "id": "fab2527e-1618-4307-9f8a-1001424110bc",
   "metadata": {},
   "outputs": [
    {
     "data": {
      "text/plain": [
       "'कार्तिक आप कैसे हैं?'"
      ]
     },
     "execution_count": 46,
     "metadata": {},
     "output_type": "execute_result"
    }
   ],
   "source": [
    "def translate_text( text: str,target='hi') -> dict:\n",
    "    \"\"\"Translates text into the target language.\n",
    "\n",
    "    Target must be an ISO 639-1 language code.\n",
    "    See https://g.co/cloud/translate/v2/translate-reference#supported_languages\n",
    "    \"\"\"\n",
    "\n",
    "    translate_client = translate.Client()\n",
    "\n",
    "    if isinstance(text, bytes):\n",
    "        text = text.decode(\"utf-8\")\n",
    "\n",
    "    # Text can also be a sequence of strings, in which case this method\n",
    "    # will return a sequence of results for each text.\n",
    "    result = translate_client.translate(text, target_language=target)\n",
    "\n",
    "    # html.unescape corrects translated symbols such as ', <,> etc.\n",
    "    return html.unescape(result[\"translatedText\"])\n",
    "    \n",
    "translate_text(\"How are you kartik\")"
   ]
  },
  {
   "cell_type": "code",
   "execution_count": 47,
   "id": "7145efa8-dc16-4f87-a846-441c53298fcc",
   "metadata": {},
   "outputs": [
    {
     "name": "stdout",
     "output_type": "stream",
     "text": [
      "CPU times: total: 15.6 ms\n",
      "Wall time: 937 ms\n"
     ]
    },
    {
     "data": {
      "text/plain": [
       "\"{'पाठ': ['सूखी हथेलियाँ', 'गीली हथेलियाँ', 'तेल से ढकी हथेलियाँ', 'लोशन से ढकी हथेलियाँ'], 'लेबल': ['ए', 'बी', 'सी', 'डी' ']}\""
      ]
     },
     "execution_count": 47,
     "metadata": {},
     "output_type": "execute_result"
    }
   ],
   "source": [
    "%%time\n",
    "\n",
    "translate_text(\"{'text': ['dry palms', 'wet palms', 'palms covered with oil', 'palms covered with lotion'], 'label': ['A', 'B', 'C', 'D']}\")"
   ]
  },
  {
   "cell_type": "code",
   "execution_count": 8,
   "id": "47701891-4077-4889-b722-35eee6a8413a",
   "metadata": {},
   "outputs": [
    {
     "name": "stdout",
     "output_type": "stream",
     "text": [
      "Number of CPU cores: 16\n"
     ]
    }
   ],
   "source": [
    "num_cores = os.cpu_count()\n",
    "print(f\"Number of CPU cores: {num_cores}\")"
   ]
  },
  {
   "cell_type": "code",
   "execution_count": 50,
   "id": "66993fe2-21c1-4f3b-9a72-f06f201db4f9",
   "metadata": {},
   "outputs": [
    {
     "name": "stdout",
     "output_type": "stream",
     "text": [
      "['जॉर्ज अपने हाथों को जल्दी-जल्दी रगड़कर गर्म करना चाहता है। त्वचा की कौन सी सतह सबसे अधिक ऊष्मा उत्पन्न करेगी?', 'निम्नलिखित में से कौन सा कथन सबसे अच्छी तरह से बताता है कि चुंबक आमतौर पर रेफ्रिजरेटर के दरवाजे से क्यों चिपकते हैं?', 'तलछटी चट्टान की परतों में देखी गई एक तह संभवतः इसी के परिणामस्वरूप हुई है', 'मेसोज़ोइक युग के अंत में कई पौधे और जानवर क्यों मर गए, इसके लिए वैज्ञानिक इनमें से सबसे हालिया स्पष्टीकरण क्या देते हैं?']\n",
      "[\"{'पाठ': ['सूखी हथेलियाँ', 'गीली हथेलियाँ', 'तेल से ढकी हथेलियाँ', 'लोशन से ढकी हथेलियाँ'], 'लेबल': ['ए', 'बी', 'सी', 'डी' ']}\", \"{'टेक्स्ट': ['रेफ्रिजरेटर का दरवाजा चिकना है।', 'रेफ्रिजरेटर के दरवाजे में लोहा है।', 'रेफ्रिजरेटर का दरवाजा एक अच्छा कंडक्टर है।', 'रेफ्रिजरेटर के दरवाजे में बिजली के तार हैं।'], 'लेबल ': ['ए बी सी डी']}\", \"{'पाठ': ['बहते मैग्मा का ठंडा होना।', 'क्रस्टल प्लेटों का अभिसरण', 'नदी तलछट का जमाव।', 'कार्बोनेट खनिजों का समाधान।'], 'लेबल': ['ए', 'बी' ', 'सी', 'डी']}\", \"{'पाठ': ['विश्वव्यापी बीमारी', 'वैश्विक पर्वत निर्माण', 'पौधों और जानवरों का शिकार करने वाले स्तनधारियों का उदय', 'क्षुद्रग्रह के प्रभाव से धूल पैदा हुई जिसने सूरज की रोशनी को अवरुद्ध कर दिया'], 'लेबल': ['ए' ', 'बी', 'सी', 'डी']}\"]\n",
      "['जुआन और लाकीशा कुछ वस्तुओं को रैंप से नीचे उतारते हैं। वे देखना चाहते हैं कि कौन सी वस्तु सबसे दूर तक लुढ़कती है। उन्हें क्या करना चाहिए ताकि वे अपनी जांच दोबारा कर सकें?', 'उच्च दबाव प्रणालियाँ हवा को वायुमंडल के ठंडे क्षेत्रों में जाने से रोकती हैं जहाँ पानी संघनित हो सकता है। यदि किसी क्षेत्र में लंबे समय तक उच्च दबाव प्रणाली बनी रहे तो सबसे अधिक संभावित परिणाम क्या होगा?', 'छात्रों ने बाल्टीमोर में मैरीलैंड स्पेस ग्रांट वेधशाला में स्थित मॉरिस डब्ल्यू ऑफिट टेलीस्कोप का दौरा किया। उन्होंने तारों, ग्रहों और चंद्रमा के बारे में सीखा। छात्रों ने नीचे दी गई जानकारी दर्ज की। • तारों का पैटर्न वही रहता है, लेकिन आकाश में उनका स्थान बदलता हुआ प्रतीत होता है। • सूर्य, ग्रह और चंद्रमा आकाश में घूमते हुए दिखाई देते हैं। • प्रॉक्सिमा सेंटॉरी हमारे सौर मंडल का सबसे निकटतम तारा है। • पोलारिस एक तारा है जो लिटिल डिपर नामक तारों के पैटर्न का हिस्सा है। कौन सा कथन सबसे अच्छी तरह से बताता है कि सूर्य प्रत्येक दिन आकाश में क्यों घूमता हुआ दिखाई देता है?', 'मनुष्यों द्वारा उत्पन्न पर्यावरणीय समस्याओं को कम करने के तरीके खोजने के लिए कौन सा विषय क्षेत्र शोध के लिए सर्वोत्तम होगा?']\n",
      "[\"{'पाठ': ['वस्तुओं को समूहों में रखें।', 'रैंप की ऊंचाई बदलें।', 'रोल करने के लिए अलग-अलग वस्तुएं चुनें।', 'जांच का विवरण रिकॉर्ड करें।'], 'लेबल': [ 'ए बी सी डी']}\", \"{'पाठ': ['कोहरा', 'बारिश', 'सूखा', 'बवंडर'], 'लेबल': ['ए', 'बी', 'सी', 'डी']}\", \"{'पाठ': ['सूर्य पृथ्वी के चारों ओर घूमता है।', 'पृथ्वी सूर्य के चारों ओर घूमती है।', 'सूर्य अपनी धुरी पर घूमता है।', 'पृथ्वी अपनी धुरी पर घूमती है।'], 'लेबल': [' ए बी सी डी']}\", \"{'पाठ': ['सूरज की रोशनी को बिजली में परिवर्तित करना', 'नए कोयला भंडार की तलाश', 'तेल युक्त जलाशयों की खोज', 'जंगलों को कृषि भूमि में परिवर्तित करना'], 'लेबल': ['ए', 'बी', 'सी', 'डी']}\"]\n",
      "['एक खगोलशास्त्री ने देखा कि उल्कापिंड के प्रभाव के बाद एक ग्रह तेजी से घूमता है। रोटेशन में इस वृद्धि का सबसे संभावित प्रभाव कौन सा है?', 'इंजीनियरों का एक समूह यह जानना चाहता था कि भूकंप के दौरान विभिन्न भवन डिज़ाइन किस प्रकार प्रतिक्रिया देंगे। उन्होंने इमारतों के कई मॉडल बनाए और प्रत्येक की भूकंप की स्थिति का सामना करने की क्षमता का परीक्षण किया। विभिन्न भवन डिज़ाइनों के परीक्षण से कौन सा परिणाम सबसे अधिक संभावित होगा?', 'प्रकाश संश्लेषण की प्रक्रिया का अंतिम परिणाम चीनी और ऑक्सीजन का उत्पादन होता है। कौन सा चरण प्रकाश संश्लेषण की शुरुआत का संकेत देता है?', 'एक भौतिक विज्ञानी यह निर्धारित करना चाहता है कि एक कार को रैंप पर कूदने के लिए कितनी गति तक पहुंचनी चाहिए। भौतिक विज्ञानी तीन परीक्षण करता है। ट्रायल दो और तीन में कार की गति 20 मील प्रति घंटा बढ़ा दी जाती है। जब भौतिक विज्ञानी गति बदलता है तो वह क्या जांच कर रहा है?']\n",
      "[\"{'पाठ': ['ग्रहों का घनत्व कम हो जाएगा।', 'ग्रहों के वर्ष लंबे हो जाएंगे।', 'ग्रहों के दिन छोटे हो जाएंगे।', 'ग्रहों का गुरुत्वाकर्षण मजबूत हो जाएगा।'], 'लेबल': ['ए' , 'बी', 'सी', 'डी']}\", \"{'पाठ': ['इमारतें तेजी से बनाई जाएंगी', 'इमारतों को सुरक्षित बनाया जाएगा', 'इमारतों के डिजाइन अच्छे दिखेंगे', 'निर्माण सामग्री सस्ती होगी'], 'लेबल': ['ए', 'बी' ', 'सी', 'डी']}\", \"{'पाठ': ['रासायनिक ऊर्जा जड़ों के माध्यम से अवशोषित होती है।', 'प्रकाश ऊर्जा रासायनिक ऊर्जा में परिवर्तित हो जाती है।', 'पत्ती में क्लोरोफिल प्रकाश ऊर्जा को ग्रहण कर लेता है।', 'सूर्य का प्रकाश क्लोरोफिल में परिवर्तित हो जाता है।'], ' लेबल': ['ए', 'बी', 'सी', 'डी']}\", \"{'पाठ': ['नियंत्रण', 'परिकल्पना कथन', 'आश्रित (प्रतिक्रिया देने वाला) चर', 'स्वतंत्र (हेरफेर) चर'], 'लेबल': ['ए', 'बी', ' सी', 'डी']}\"]\n",
      "['जॉर्ज अपने हाथों को जल्दी-जल्दी रगड़कर गर्म करना चाहता है। त्वचा की कौन सी सतह सबसे अधिक ऊष्मा उत्पन्न करेगी?', 'निम्नलिखित में से कौन सा कथन सबसे अच्छी तरह से बताता है कि चुंबक आमतौर पर रेफ्रिजरेटर के दरवाजे से क्यों चिपकते हैं?', 'तलछटी चट्टान की परतों में देखी गई एक तह संभवतः इसी के परिणामस्वरूप हुई है', 'मेसोज़ोइक युग के अंत में कई पौधे और जानवर क्यों मर गए, इसके लिए वैज्ञानिक इनमें से सबसे हालिया स्पष्टीकरण क्या देते हैं?']\n",
      "[\"{'पाठ': ['सूखी हथेलियाँ', 'गीली हथेलियाँ', 'तेल से ढकी हथेलियाँ', 'लोशन से ढकी हथेलियाँ'], 'लेबल': ['ए', 'बी', 'सी', 'डी' ']}\", \"{'टेक्स्ट': ['रेफ्रिजरेटर का दरवाजा चिकना है।', 'रेफ्रिजरेटर के दरवाजे में लोहा है।', 'रेफ्रिजरेटर का दरवाजा एक अच्छा कंडक्टर है।', 'रेफ्रिजरेटर के दरवाजे में बिजली के तार हैं।'], 'लेबल ': ['ए बी सी डी']}\", \"{'पाठ': ['बहते मैग्मा का ठंडा होना।', 'क्रस्टल प्लेटों का अभिसरण', 'नदी तलछट का जमाव।', 'कार्बोनेट खनिजों का समाधान।'], 'लेबल': ['ए', 'बी' ', 'सी', 'डी']}\", \"{'पाठ': ['विश्वव्यापी बीमारी', 'वैश्विक पर्वत निर्माण', 'पौधों और जानवरों का शिकार करने वाले स्तनधारियों का उदय', 'क्षुद्रग्रह के प्रभाव से धूल बनी जिसने सूर्य के प्रकाश को अवरुद्ध कर दिया'], 'लेबल': ['ए' ', 'बी', 'सी', 'डी']}\"]\n",
      "['जुआन और लाकीशा कुछ वस्तुओं को रैंप से नीचे उतारते हैं। वे देखना चाहते हैं कि कौन सी वस्तु सबसे दूर तक लुढ़कती है। उन्हें क्या करना चाहिए ताकि वे अपनी जांच दोबारा कर सकें?', 'उच्च दबाव प्रणालियाँ हवा को वायुमंडल के ठंडे क्षेत्रों में जाने से रोकती हैं जहाँ पानी संघनित हो सकता है। यदि किसी क्षेत्र में लंबे समय तक उच्च दबाव प्रणाली बनी रहे तो सबसे अधिक संभावित परिणाम क्या होगा?', 'छात्रों ने बाल्टीमोर में मैरीलैंड स्पेस ग्रांट वेधशाला में स्थित मॉरिस डब्ल्यू ऑफिट टेलीस्कोप का दौरा किया। उन्होंने तारों, ग्रहों और चंद्रमा के बारे में सीखा। छात्रों ने नीचे दी गई जानकारी दर्ज की। • तारों का पैटर्न वही रहता है, लेकिन आकाश में उनका स्थान बदलता हुआ प्रतीत होता है। • सूर्य, ग्रह और चंद्रमा आकाश में घूमते हुए दिखाई देते हैं। • प्रॉक्सिमा सेंटॉरी हमारे सौर मंडल का सबसे निकटतम तारा है। • पोलारिस एक तारा है जो लिटिल डिपर नामक तारों के पैटर्न का हिस्सा है। कौन सा कथन सबसे अच्छी तरह से बताता है कि सूर्य प्रत्येक दिन आकाश में क्यों घूमता हुआ दिखाई देता है?', 'मनुष्यों द्वारा उत्पन्न पर्यावरणीय समस्याओं को कम करने के तरीके खोजने के लिए कौन सा विषय क्षेत्र शोध के लिए सर्वोत्तम होगा?']\n",
      "[\"{'पाठ': ['वस्तुओं को समूहों में रखें।', 'रैंप की ऊंचाई बदलें।', 'रोल करने के लिए अलग-अलग वस्तुएं चुनें।', 'जांच का विवरण रिकॉर्ड करें।'], 'लेबल': [ 'ए बी सी डी']}\", \"{'पाठ': ['कोहरा', 'बारिश', 'सूखा', 'बवंडर'], 'लेबल': ['ए', 'बी', 'सी', 'डी']}\", \"{'पाठ': ['सूर्य पृथ्वी के चारों ओर घूमता है।', 'पृथ्वी सूर्य के चारों ओर घूमती है।', 'सूर्य अपनी धुरी पर घूमता है।', 'पृथ्वी अपनी धुरी पर घूमती है।'], 'लेबल': [' ए बी सी डी']}\", \"{'पाठ': ['सूरज की रोशनी को बिजली में परिवर्तित करना', 'नए कोयला भंडार की तलाश', 'तेल युक्त जलाशयों की खोज', 'जंगलों को कृषि भूमि में परिवर्तित करना'], 'लेबल': ['ए', 'बी', 'सी', 'डी']}\"]\n",
      "['एक खगोलशास्त्री ने देखा कि उल्कापिंड के प्रभाव के बाद एक ग्रह तेजी से घूमता है। रोटेशन में इस वृद्धि का सबसे संभावित प्रभाव कौन सा है?', 'इंजीनियरों का एक समूह यह जानना चाहता था कि भूकंप के दौरान विभिन्न भवन डिज़ाइन किस प्रकार प्रतिक्रिया देंगे। उन्होंने इमारतों के कई मॉडल बनाए और प्रत्येक की भूकंप की स्थिति का सामना करने की क्षमता का परीक्षण किया। विभिन्न भवन डिज़ाइनों के परीक्षण से कौन सा परिणाम सबसे अधिक संभावित होगा?', 'प्रकाश संश्लेषण की प्रक्रिया का अंतिम परिणाम चीनी और ऑक्सीजन का उत्पादन होता है। कौन सा चरण प्रकाश संश्लेषण की शुरुआत का संकेत देता है?', 'एक भौतिक विज्ञानी यह निर्धारित करना चाहता है कि एक कार को रैंप पर कूदने के लिए कितनी गति तक पहुंचनी चाहिए। भौतिक विज्ञानी तीन परीक्षण करता है। ट्रायल दो और तीन में कार की गति 20 मील प्रति घंटा बढ़ा दी जाती है। जब भौतिक विज्ञानी गति बदलता है तो वह क्या जांच कर रहा है?']\n",
      "[\"{'पाठ': ['ग्रहों का घनत्व कम हो जाएगा।', 'ग्रहों के वर्ष लंबे हो जाएंगे।', 'ग्रहों के दिन छोटे हो जाएंगे।', 'ग्रहों का गुरुत्वाकर्षण मजबूत हो जाएगा।'], 'लेबल': ['ए' , 'बी', 'सी', 'डी']}\", \"{'पाठ': ['इमारतें तेजी से बनाई जाएंगी', 'इमारतों को सुरक्षित बनाया जाएगा', 'इमारतों के डिजाइन अच्छे दिखेंगे', 'निर्माण सामग्री सस्ती होगी'], 'लेबल': ['ए', 'बी' ', 'सी', 'डी']}\", \"{'पाठ': ['रासायनिक ऊर्जा जड़ों के माध्यम से अवशोषित होती है।', 'प्रकाश ऊर्जा रासायनिक ऊर्जा में परिवर्तित हो जाती है।', 'पत्ती में क्लोरोफिल प्रकाश ऊर्जा को ग्रहण कर लेता है।', 'सूर्य का प्रकाश क्लोरोफिल में परिवर्तित हो जाता है।'], ' लेबल': ['ए', 'बी', 'सी', 'डी']}\", \"{'पाठ': ['नियंत्रण', 'परिकल्पना कथन', 'आश्रित (प्रतिक्रिया देने वाला) चर', 'स्वतंत्र (हेरफेर) चर'], 'लेबल': ['ए', 'बी', ' सी', 'डी']}\"]\n",
      "CPU times: total: 2.16 s\n",
      "Wall time: 37.7 s\n"
     ]
    }
   ],
   "source": [
    "%%time\n",
    "\n",
    "for i in range(len(possible_configs)):\n",
    "    for set in dataset[i]:\n",
    "        set_list = []\n",
    "\n",
    "        # columns to translate\n",
    "        columns = ['question','choices']\n",
    "\n",
    "        # columns not to translate\n",
    "        \n",
    "        \n",
    "        for col in columns:\n",
    "            values = [str(item[col]) for item in dataset[i][set]]\n",
    "            # print(values[1:2])\n",
    "            \n",
    "            # Use ThreadPoolExecutor for parallel translation\n",
    "            if __name__ == '__main__':\n",
    "                result =[]\n",
    "                with ThreadPoolExecutor(max_workers=16) as exe:\n",
    "                    # Maps the method with a list of values.\n",
    "                    # result = list(exe.map(translate_text,values[1:2]))\n",
    "                    \n",
    "                    batch_size = 1\n",
    "                    for j in range(0,len(values[:4]),batch_size):\n",
    "                        j_end = min(j + batch_size, len(values[:4]))\n",
    "                        res = list(exe.map(translate_text,values[j:j_end]))\n",
    "                        # time.sleep(2)\n",
    "                        result.extend(res)\n",
    "                    \n",
    "            set_list.append(result)\n",
    "            print(result)\n",
    "\n",
    "        # Create folders for each configuration\n",
    "        current_directory = os.getcwd()\n",
    "        \n",
    "        # Specify the path of the 'config' folder\n",
    "        config_folder_path = os.path.join(current_directory, possible_configs[i])\n",
    "        \n",
    "        # Create the 'config' folder\n",
    "        os.makedirs(config_folder_path, exist_ok=True)       \n",
    "    \n",
    "        # Transpose the 2D list\n",
    "        transposed_data = list(map(list, zip(*set_list)))\n",
    "        path = os.path.join(possible_configs[i], f'{set}.csv')\n",
    "\n",
    "        # append to previosly created csv file in case full dataset was not converted\n",
    "        with open(path, 'a', encoding='utf-8') as f:\n",
    "            # using csv.writer method from CSV package\n",
    "            write = csv.writer(f)\n",
    "            # write.writerow(columns)\n",
    "            write.writerows(transposed_data)"
   ]
  }
 ],
 "metadata": {
  "kernelspec": {
   "display_name": "Python 3 (ipykernel)",
   "language": "python",
   "name": "python3"
  },
  "language_info": {
   "codemirror_mode": {
    "name": "ipython",
    "version": 3
   },
   "file_extension": ".py",
   "mimetype": "text/x-python",
   "name": "python",
   "nbconvert_exporter": "python",
   "pygments_lexer": "ipython3",
   "version": "3.11.3"
  }
 },
 "nbformat": 4,
 "nbformat_minor": 5
}
