{
 "cells": [
  {
   "cell_type": "code",
   "execution_count": 1,
   "id": "097cda4f-0fa5-4d7c-9a41-ad59932b1785",
   "metadata": {},
   "outputs": [
    {
     "name": "stderr",
     "output_type": "stream",
     "text": [
      "C:\\Users\\karti\\AppData\\Local\\Programs\\Python\\Python311\\Lib\\site-packages\\numpy\\_distributor_init.py:30: UserWarning: loaded more than 1 DLL from .libs:\n",
      "C:\\Users\\karti\\AppData\\Local\\Programs\\Python\\Python311\\Lib\\site-packages\\numpy\\.libs\\libopenblas.FB5AE2TYXYH2IJRDKGDGQ3XBKLKTF43H.gfortran-win_amd64.dll\n",
      "C:\\Users\\karti\\AppData\\Local\\Programs\\Python\\Python311\\Lib\\site-packages\\numpy\\.libs\\libopenblas64__v0.3.21-gcc_10_3_0.dll\n",
      "  warnings.warn(\"loaded more than 1 DLL from .libs:\"\n"
     ]
    }
   ],
   "source": [
    "import os\n",
    "import torch\n",
    "from datasets import load_dataset\n",
    "from google.cloud import translate_v2 as translate\n",
    "from concurrent.futures import ThreadPoolExecutor\n",
    "gcp_project_id = \"artful-tractor-338209\""
   ]
  },
  {
   "cell_type": "markdown",
   "id": "b443f39a-6bf7-4750-ba2c-c3ecab3cc701",
   "metadata": {},
   "source": [
    "## Create a Service Account:\n",
    "In the Cloud Console, navigate to \"IAM & Admin\" > \"Service accounts.\" Click \"Create Service Account.\" Enter a name for service account, select the role(s) that service account needs (Cloud Translation API Editor), and click \"Continue.\"\n",
    "\n",
    "## Generate Key:\n",
    "After creating the service account, click on it in the \"Service accounts\" page. Navigate to the \"Keys\" tab. Click on \"Add Key\" and choose \"JSON.\" This will download a JSON key file containing the necessary credentials."
   ]
  },
  {
   "cell_type": "code",
   "execution_count": 2,
   "id": "85da1c90-309c-4b95-a8e3-af8ecec5985c",
   "metadata": {},
   "outputs": [],
   "source": [
    "# give path to json key file\n",
    "\n",
    "credential_path = \"C:/Users/karti/Desktop/ComputerScience/internships/Nirant2/artful-tractor-338209-61f5638878ce.json\"\n",
    "os.environ['GOOGLE_APPLICATION_CREDENTIALS'] = credential_path"
   ]
  },
  {
   "cell_type": "code",
   "execution_count": 32,
   "id": "aae42486-d82e-4393-a2de-7e79d18c9aa2",
   "metadata": {},
   "outputs": [
    {
     "name": "stderr",
     "output_type": "stream",
     "text": [
      "Found cached dataset parquet (C:/Users/karti/.cache/huggingface/datasets/parquet/ARC-Challenge-6372c4cac1109a78/0.0.0/14a00e99c0d15a23649d0db8944380ac81082d4b021f398733dd84f3a6c569a7)\n"
     ]
    },
    {
     "data": {
      "application/vnd.jupyter.widget-view+json": {
       "model_id": "f6cef56b77ac4dce96fafed25ba74a44",
       "version_major": 2,
       "version_minor": 0
      },
      "text/plain": [
       "  0%|          | 0/3 [00:00<?, ?it/s]"
      ]
     },
     "metadata": {},
     "output_type": "display_data"
    },
    {
     "name": "stderr",
     "output_type": "stream",
     "text": [
      "Found cached dataset parquet (C:/Users/karti/.cache/huggingface/datasets/parquet/ARC-Challenge-6372c4cac1109a78/0.0.0/14a00e99c0d15a23649d0db8944380ac81082d4b021f398733dd84f3a6c569a7)\n"
     ]
    },
    {
     "data": {
      "application/vnd.jupyter.widget-view+json": {
       "model_id": "a9f40643e5ac46e19935bf93922790b9",
       "version_major": 2,
       "version_minor": 0
      },
      "text/plain": [
       "  0%|          | 0/3 [00:00<?, ?it/s]"
      ]
     },
     "metadata": {},
     "output_type": "display_data"
    }
   ],
   "source": [
    "possible_configs = [\n",
    "#     # \"main\",\n",
    "#     # \"socratic\",\n",
    "    'ARC-Challenge',\n",
    "    'ARC-Easy'\n",
    "]\n",
    "dataset = []\n",
    "for config in possible_configs:\n",
    "    dataset_slice = load_dataset(\"ai2_arc\", config,ignore_verifications=True)\n",
    "    dataset.append(dataset_slice)\n",
    "    \n"
   ]
  },
  {
   "cell_type": "code",
   "execution_count": 34,
   "id": "de12efd8-21be-4dcd-96b3-9e802f50e053",
   "metadata": {},
   "outputs": [
    {
     "name": "stdout",
     "output_type": "stream",
     "text": [
      "Dataset({\n",
      "    features: ['id', 'question', 'choices', 'answerKey'],\n",
      "    num_rows: 3370\n",
      "})\n",
      "Dataset({\n",
      "    features: ['id', 'question', 'choices', 'answerKey'],\n",
      "    num_rows: 3548\n",
      "})\n",
      "Dataset({\n",
      "    features: ['id', 'question', 'choices', 'answerKey'],\n",
      "    num_rows: 869\n",
      "})\n",
      "Dataset({\n",
      "    features: ['id', 'question', 'choices', 'answerKey'],\n",
      "    num_rows: 3370\n",
      "})\n",
      "Dataset({\n",
      "    features: ['id', 'question', 'choices', 'answerKey'],\n",
      "    num_rows: 3548\n",
      "})\n",
      "Dataset({\n",
      "    features: ['id', 'question', 'choices', 'answerKey'],\n",
      "    num_rows: 869\n",
      "})\n"
     ]
    }
   ],
   "source": [
    "# dataset\n",
    "for g in dataset:\n",
    "    print(g['train'])\n",
    "    print(g['test'])\n",
    "    print(g['validation'])"
   ]
  },
  {
   "cell_type": "code",
   "execution_count": 3,
   "id": "fab2527e-1618-4307-9f8a-1001424110bc",
   "metadata": {},
   "outputs": [
    {
     "data": {
      "text/plain": [
       "'कार्तिक आप कैसे हैं?'"
      ]
     },
     "execution_count": 3,
     "metadata": {},
     "output_type": "execute_result"
    }
   ],
   "source": [
    "def translate_text( text: str,target='hi') -> dict:\n",
    "    \"\"\"Translates text into the target language.\n",
    "\n",
    "    Target must be an ISO 639-1 language code.\n",
    "    See https://g.co/cloud/translate/v2/translate-reference#supported_languages\n",
    "    \"\"\"\n",
    "\n",
    "    translate_client = translate.Client()\n",
    "\n",
    "    if isinstance(text, bytes):\n",
    "        text = text.decode(\"utf-8\")\n",
    "\n",
    "    # Text can also be a sequence of strings, in which case this method\n",
    "    # will return a sequence of results for each text.\n",
    "    result = translate_client.translate(text, target_language=target)\n",
    "\n",
    "\n",
    "    return result[\"translatedText\"]\n",
    "translate_text(\"How are you kartik\")"
   ]
  },
  {
   "cell_type": "code",
   "execution_count": 40,
   "id": "7145efa8-dc16-4f87-a846-441c53298fcc",
   "metadata": {},
   "outputs": [
    {
     "name": "stdout",
     "output_type": "stream",
     "text": [
      "CPU times: total: 15.6 ms\n",
      "Wall time: 934 ms\n"
     ]
    },
    {
     "data": {
      "text/plain": [
       "'{&#39;पाठ&#39;: [&#39;सूखी हथेलियाँ&#39;, &#39;गीली हथेलियाँ&#39;, &#39;तेल से ढकी हथेलियाँ&#39;, &#39;लोशन से ढकी हथेलियाँ&#39;], &#39;लेबल&#39;: [&#39;ए&#39;, &#39;बी&#39;, &#39;सी&#39;, &#39;डी&#39; &#39;]}'"
      ]
     },
     "execution_count": 40,
     "metadata": {},
     "output_type": "execute_result"
    }
   ],
   "source": [
    "%%time\n",
    "\n",
    "translate_text(\"{'text': ['dry palms', 'wet palms', 'palms covered with oil', 'palms covered with lotion'], 'label': ['A', 'B', 'C', 'D']}\")\n",
    "# translate_text(\"Natalia sold clips to 48 of her friends in April, and then she sold half as many clips in May. How many clips did Natalia sell altogether in April and May?\t\")\n",
    "# translate_text(\"How many clips did Natalia sell in May? ** Natalia sold 48/2 = <<48/2=24>>24 clips in May. How many clips did Natalia sell altogether in April and May? ** Natalia sold 48+24 = <<48+24=72>>72 clips altogether in April and May. #### 72\")\n"
   ]
  },
  {
   "cell_type": "code",
   "execution_count": 7,
   "id": "1df097b2-ed89-4e65-a005-4007c84ad811",
   "metadata": {},
   "outputs": [
    {
     "name": "stdout",
     "output_type": "stream",
     "text": [
      "[DatasetDict({\n",
      "    train: Dataset({\n",
      "        features: ['question', 'answer'],\n",
      "        num_rows: 7473\n",
      "    })\n",
      "    test: Dataset({\n",
      "        features: ['question', 'answer'],\n",
      "        num_rows: 1319\n",
      "    })\n",
      "}), DatasetDict({\n",
      "    train: Dataset({\n",
      "        features: ['question', 'answer'],\n",
      "        num_rows: 7473\n",
      "    })\n",
      "    test: Dataset({\n",
      "        features: ['question', 'answer'],\n",
      "        num_rows: 1319\n",
      "    })\n",
      "})]\n"
     ]
    }
   ],
   "source": [
    "print(dataset)"
   ]
  },
  {
   "cell_type": "code",
   "execution_count": 8,
   "id": "47701891-4077-4889-b722-35eee6a8413a",
   "metadata": {},
   "outputs": [
    {
     "name": "stdout",
     "output_type": "stream",
     "text": [
      "Number of CPU cores: 16\n"
     ]
    }
   ],
   "source": [
    "import os\n",
    "\n",
    "num_cores = os.cpu_count()\n",
    "print(f\"Number of CPU cores: {num_cores}\")"
   ]
  },
  {
   "cell_type": "code",
   "execution_count": 45,
   "id": "66993fe2-21c1-4f3b-9a72-f06f201db4f9",
   "metadata": {},
   "outputs": [
    {
     "name": "stdout",
     "output_type": "stream",
     "text": [
      "['Which of the following statements best explains why magnets usually stick to a refrigerator door?']\n",
      "['निम्नलिखित में से कौन सा कथन सबसे अच्छी तरह से बताता है कि चुंबक आमतौर पर रेफ्रिजरेटर के दरवाजे से क्यों चिपकते हैं?']\n",
      "[\"{'text': ['The refrigerator door is smooth.', 'The refrigerator door contains iron.', 'The refrigerator door is a good conductor.', 'The refrigerator door has electric wires in it.'], 'label': ['A', 'B', 'C', 'D']}\"]\n",
      "['{&#39;टेक्स्ट&#39;: [&#39;रेफ्रिजरेटर का दरवाजा चिकना है।&#39;, &#39;रेफ्रिजरेटर के दरवाजे में लोहा है।&#39;, &#39;रेफ्रिजरेटर का दरवाजा एक अच्छा कंडक्टर है।&#39;, &#39;रेफ्रिजरेटर के दरवाजे में बिजली के तार हैं।&#39;], &#39;लेबल &#39;: [&#39;ए बी सी डी&#39;]}']\n",
      "['High-pressure systems stop air from rising into the colder regions of the atmosphere where water can condense. What will most likely result if a high-pressure system remains in an area for a long period of time?']\n",
      "['उच्च दबाव प्रणालियाँ हवा को वायुमंडल के ठंडे क्षेत्रों में जाने से रोकती हैं जहाँ पानी संघनित हो सकता है। यदि किसी क्षेत्र में लंबे समय तक उच्च दबाव प्रणाली बनी रहे तो सबसे अधिक संभावित परिणाम क्या होगा?']\n",
      "[\"{'text': ['fog', 'rain', 'drought', 'tornado'], 'label': ['A', 'B', 'C', 'D']}\"]\n",
      "['{&#39;पाठ&#39;: [&#39;कोहरा&#39;, &#39;बारिश&#39;, &#39;सूखा&#39;, &#39;बवंडर&#39;], &#39;लेबल&#39;: [&#39;ए&#39;, &#39;बी&#39;, &#39;सी&#39;, &#39;डी&#39;]}']\n",
      "['A group of engineers wanted to know how different building designs would respond during an earthquake. They made several models of buildings and tested each for its ability to withstand earthquake conditions. Which will most likely result from testing different building designs?']\n",
      "['इंजीनियरों का एक समूह यह जानना चाहता था कि भूकंप के दौरान विभिन्न भवन डिज़ाइन किस प्रकार प्रतिक्रिया देंगे। उन्होंने इमारतों के कई मॉडल बनाए और प्रत्येक की भूकंप की स्थिति का सामना करने की क्षमता का परीक्षण किया। विभिन्न भवन डिज़ाइनों के परीक्षण से कौन सा परिणाम सबसे अधिक संभावित होगा?']\n",
      "[\"{'text': ['buildings will be built faster', 'buildings will be made safer', 'building designs will look nicer', 'building materials will be cheaper'], 'label': ['A', 'B', 'C', 'D']}\"]\n",
      "['{&#39;पाठ&#39;: [&#39;इमारतें तेजी से बनाई जाएंगी&#39;, &#39;इमारतों को सुरक्षित बनाया जाएगा&#39;, &#39;इमारतों के डिजाइन अच्छे दिखेंगे&#39;, &#39;निर्माण सामग्री सस्ती होगी&#39;], &#39;लेबल&#39;: [&#39;ए&#39;, &#39;बी&#39; &#39;, &#39;सी&#39;, &#39;डी&#39;]}']\n",
      "['Which of the following statements best explains why magnets usually stick to a refrigerator door?']\n",
      "['निम्नलिखित में से कौन सा कथन सबसे अच्छी तरह से बताता है कि चुंबक आमतौर पर रेफ्रिजरेटर के दरवाजे से क्यों चिपकते हैं?']\n",
      "[\"{'text': ['The refrigerator door is smooth.', 'The refrigerator door contains iron.', 'The refrigerator door is a good conductor.', 'The refrigerator door has electric wires in it.'], 'label': ['A', 'B', 'C', 'D']}\"]\n",
      "['{&#39;टेक्स्ट&#39;: [&#39;रेफ्रिजरेटर का दरवाजा चिकना है।&#39;, &#39;रेफ्रिजरेटर के दरवाजे में लोहा है।&#39;, &#39;रेफ्रिजरेटर का दरवाजा एक अच्छा कंडक्टर है।&#39;, &#39;रेफ्रिजरेटर के दरवाजे में बिजली के तार हैं।&#39;], &#39;लेबल &#39;: [&#39;ए बी सी डी&#39;]}']\n",
      "['High-pressure systems stop air from rising into the colder regions of the atmosphere where water can condense. What will most likely result if a high-pressure system remains in an area for a long period of time?']\n",
      "['उच्च दबाव प्रणालियाँ हवा को वायुमंडल के ठंडे क्षेत्रों में जाने से रोकती हैं जहाँ पानी संघनित हो सकता है। यदि किसी क्षेत्र में लंबे समय तक उच्च दबाव प्रणाली बनी रहे तो सबसे अधिक संभावित परिणाम क्या होगा?']\n",
      "[\"{'text': ['fog', 'rain', 'drought', 'tornado'], 'label': ['A', 'B', 'C', 'D']}\"]\n",
      "['{&#39;पाठ&#39;: [&#39;कोहरा&#39;, &#39;बारिश&#39;, &#39;सूखा&#39;, &#39;बवंडर&#39;], &#39;लेबल&#39;: [&#39;ए&#39;, &#39;बी&#39;, &#39;सी&#39;, &#39;डी&#39;]}']\n",
      "['A group of engineers wanted to know how different building designs would respond during an earthquake. They made several models of buildings and tested each for its ability to withstand earthquake conditions. Which will most likely result from testing different building designs?']\n",
      "['इंजीनियरों का एक समूह यह जानना चाहता था कि भूकंप के दौरान विभिन्न भवन डिज़ाइन किस प्रकार प्रतिक्रिया देंगे। उन्होंने इमारतों के कई मॉडल बनाए और प्रत्येक की भूकंप की स्थिति का सामना करने की क्षमता का परीक्षण किया। विभिन्न भवन डिज़ाइनों के परीक्षण से कौन सा परिणाम सबसे अधिक संभावित होगा?']\n",
      "[\"{'text': ['buildings will be built faster', 'buildings will be made safer', 'building designs will look nicer', 'building materials will be cheaper'], 'label': ['A', 'B', 'C', 'D']}\"]\n",
      "['{&#39;पाठ&#39;: [&#39;इमारतें तेजी से बनाई जाएंगी&#39;, &#39;इमारतों को सुरक्षित बनाया जाएगा&#39;, &#39;इमारतों के डिजाइन अच्छे दिखेंगे&#39;, &#39;निर्माण सामग्री सस्ती होगी&#39;], &#39;लेबल&#39;: [&#39;ए&#39;, &#39;बी&#39; &#39;, &#39;सी&#39;, &#39;डी&#39;]}']\n",
      "CPU times: total: 1.53 s\n",
      "Wall time: 33.1 s\n"
     ]
    }
   ],
   "source": [
    "%%time\n",
    "import time\n",
    "\n",
    "for i in range(len(possible_configs)):\n",
    "    for set in dataset[i]:\n",
    "        set_list = []\n",
    "        columns = ['question','choices']\n",
    "        \n",
    "        for col in columns:\n",
    "            values = [str(item[col]) for item in dataset[i][set]]\n",
    "            print(values[1:2])\n",
    "\n",
    "            if __name__ == '__main__':\n",
    "                result =[]\n",
    "                with ThreadPoolExecutor(max_workers=16) as exe:\n",
    "                    # Maps the method with a list of values.\n",
    "                    result = list(exe.map(translate_text,values[1:2]))\n",
    "                    print(result)\n",
    "                    # batch_size = 16\n",
    "                    # for j in range(0,48,batch_size):\n",
    "                    #     j_end = min(j + batch_size, 48)\n",
    "                    #     res = list(exe.map(translate_text,values[j:j_end]))\n",
    "                    #     time.sleep(2)\n",
    "                    #     result.extend(res)\n",
    "                    \n",
    "            set_list.append(result)\n",
    "        \n",
    "        current_directory = os.getcwd()\n",
    "        # Specify the path of the 'config' folder\n",
    "        config_folder_path = os.path.join(current_directory, possible_configs[i])\n",
    "        # Create the 'config' folder\n",
    "        os.makedirs(config_folder_path, exist_ok=True)       \n",
    "    \n",
    "        import csv\n",
    "        # Transpose the 2D list\n",
    "        transposed_data = list(map(list, zip(*set_list)))\n",
    "        path = os.path.join(possible_configs[i], f'{set}.csv')\n",
    "        with open(path, 'w', encoding='utf-8') as f:\n",
    "            # using csv.writer method from CSV package\n",
    "            write = csv.writer(f)\n",
    "            # write.writerow(columns)\n",
    "            write.writerows(transposed_data)"
   ]
  }
 ],
 "metadata": {
  "kernelspec": {
   "display_name": "Python 3 (ipykernel)",
   "language": "python",
   "name": "python3"
  },
  "language_info": {
   "codemirror_mode": {
    "name": "ipython",
    "version": 3
   },
   "file_extension": ".py",
   "mimetype": "text/x-python",
   "name": "python",
   "nbconvert_exporter": "python",
   "pygments_lexer": "ipython3",
   "version": "3.11.3"
  }
 },
 "nbformat": 4,
 "nbformat_minor": 5
}
