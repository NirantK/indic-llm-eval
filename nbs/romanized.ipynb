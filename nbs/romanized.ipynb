{
 "cells": [
  {
   "cell_type": "code",
   "execution_count": 3,
   "id": "2de44fb1-a0f3-4ed5-920b-fb235d702aca",
   "metadata": {},
   "outputs": [],
   "source": [
    "import os\n",
    "import csv\n",
    "import time\n",
    "import torch\n",
    "import requests\n",
    "from datasets import load_dataset\n",
    "from google.cloud import translate_v2 as translate\n",
    "from concurrent.futures import ThreadPoolExecutor    # Concurrent execution using threads\n",
    "gcp_project_id = \"artful-tractor-338209\"   # Set the Google Cloud Project ID"
   ]
  },
  {
   "cell_type": "code",
   "execution_count": 58,
   "id": "978de591-db1e-422e-a1aa-85c177e90653",
   "metadata": {
    "scrolled": true
   },
   "outputs": [
    {
     "name": "stderr",
     "output_type": "stream",
     "text": [
      "Found cached dataset bbc_hindi_nli (C:/Users/karti/.cache/huggingface/datasets/bbc_hindi_nli/bbc hindi nli/1.1.0/cd576e2277553122ee57670998e5122a0699a0153a4ccc21dd554e424bd17e58)\n"
     ]
    },
    {
     "data": {
      "application/vnd.jupyter.widget-view+json": {
       "model_id": "35d8e5c89c9c4600a2d98a411fc10f82",
       "version_major": 2,
       "version_minor": 0
      },
      "text/plain": [
       "  0%|          | 0/3 [00:00<?, ?it/s]"
      ]
     },
     "metadata": {},
     "output_type": "display_data"
    }
   ],
   "source": [
    "possible_configs = [\n",
    "    # \"main\",\n",
    "    # \"socratic\",\n",
    "    # 'ARC-Challenge',\n",
    "    # 'ARC-Easy',\n",
    "    'bbc hindi nli'\n",
    "]\n",
    "dataset = []\n",
    "for config in possible_configs:\n",
    "    dataset_slice = load_dataset(\"bbc_hindi_nli\", config,ignore_verifications=True)\n",
    "    dataset.append(dataset_slice)"
   ]
  },
  {
   "cell_type": "code",
   "execution_count": 59,
   "id": "112e3ac3-9952-4b87-8018-540bd69910af",
   "metadata": {},
   "outputs": [
    {
     "name": "stdout",
     "output_type": "stream",
     "text": [
      "Dataset({\n",
      "    features: ['premise', 'hypothesis', 'label', 'topic'],\n",
      "    num_rows: 15552\n",
      "})\n",
      "Dataset({\n",
      "    features: ['premise', 'hypothesis', 'label', 'topic'],\n",
      "    num_rows: 2592\n",
      "})\n",
      "Dataset({\n",
      "    features: ['premise', 'hypothesis', 'label', 'topic'],\n",
      "    num_rows: 2580\n",
      "})\n"
     ]
    }
   ],
   "source": [
    "# dataset\n",
    "for g in dataset:\n",
    "    print(g['train'])\n",
    "    print(g['test'])\n",
    "    print(g['validation'])"
   ]
  },
  {
   "cell_type": "code",
   "execution_count": null,
   "id": "17e4038f-e2db-41b9-8238-28f7d82d5089",
   "metadata": {},
   "outputs": [],
   "source": [
    "access_token = 'ya29.a0AfB_byDPJReEjznltcD1LepRfvKCPFBx_eFOm2BPwVq6z9Agn16pFhR7x7UMKRYQSAf01y9Gwk8vPmHVE0lpWtGpF_Kq2wcqeFtnZDOU5jilu-rJsZA0Vra2CvUzmu2XdmYNNz1eRGV72buKBonuQQMwuolwW4y5dqBzaCgYKAdoSARASFQHGX2MiN66GagSurFyiLy4yrIErHQ0171'"
   ]
  },
  {
   "cell_type": "markdown",
   "id": "27b0eaae-baaf-437d-9c71-94a1c7d62dda",
   "metadata": {},
   "source": [
    "## Get access token for romanization\n",
    "\n",
    "1. go to link https://developers.google.com/oauthplayground/ \n",
    "2. select Cloud Translation API v3, under it select both https://www.googleapis.com/auth/cloud-platform\n",
    "https://www.googleapis.com/auth/cloud-translation\n",
    "3. authorize\n",
    "4. exchange authorization code for tokens and copy the access token.\n",
    "\n",
    "   #### valid for one hour only"
   ]
  },
  {
   "cell_type": "code",
   "execution_count": 55,
   "id": "6fe919be-e680-4032-ab52-ae4f8c39f4c6",
   "metadata": {},
   "outputs": [],
   "source": [
    "def romanize( text: str):\n",
    "    url = 'https://translation.googleapis.com/v3/projects/artful-tractor-338209/locations/global:romanizeText'\n",
    "\n",
    "    headers = {\n",
    "    'Authorization': f'Bearer {access_token}',\n",
    "    'Accept': 'application/json',\n",
    "    'Content-Type': 'application/json',\n",
    "    }\n",
    "    data = {\n",
    "    'contents': [text],\n",
    "    'sourceLanguageCode': 'hi',\n",
    "    }\n",
    "\n",
    "    response = requests.post(url, headers=headers, json=data)\n",
    "\n",
    "    if response.status_code == 200:\n",
    "        result = response.json()\n",
    "        # print(result)\n",
    "        romanized_text = result['romanizations'][0]['romanizedText']\n",
    "        return f'{romanized_text}'\n",
    "    else:\n",
    "        print(f\"Error: {response.status_code} - {response.text}\")"
   ]
  },
  {
   "cell_type": "code",
   "execution_count": 64,
   "id": "9cb15e67-1c65-41c1-b23e-92fec0470a22",
   "metadata": {},
   "outputs": [
    {
     "data": {
      "text/plain": [
       "'kaartik aap kaise hain?'"
      ]
     },
     "execution_count": 64,
     "metadata": {},
     "output_type": "execute_result"
    }
   ],
   "source": [
    "romanize(\"कार्तिक आप कैसे हैं?\")"
   ]
  },
  {
   "cell_type": "code",
   "execution_count": 56,
   "id": "433ef956-4974-4dc0-8e51-5ef71c6af265",
   "metadata": {},
   "outputs": [
    {
     "name": "stdout",
     "output_type": "stream",
     "text": [
      "CPU times: total: 0 ns\n",
      "Wall time: 879 ms\n"
     ]
    },
    {
     "data": {
      "text/plain": [
       "'{taixt: [sookhe hue haath, geele hue haath, tel se dhake hue haath, loshan se dhake hue haath], labail: [e, bee, see, dee]}'"
      ]
     },
     "execution_count": 56,
     "metadata": {},
     "output_type": "execute_result"
    }
   ],
   "source": [
    "%%time\n",
    "\n",
    "romanize(\"{'text': ['सूखे हुए हाथ', 'गीले हुए हाथ', 'तेल से ढके हुए हाथ', 'लोशन से ढके हुए हाथ'], 'label': ['ए', 'बी', 'सी', 'डी']}\")"
   ]
  },
  {
   "cell_type": "code",
   "execution_count": 57,
   "id": "6bef43a9-c084-4c5d-b2e9-946e33bb7c29",
   "metadata": {},
   "outputs": [
    {
     "name": "stdout",
     "output_type": "stream",
     "text": [
      "Number of CPU cores: 16\n"
     ]
    }
   ],
   "source": [
    "num_cores = os.cpu_count()\n",
    "print(f\"Number of CPU cores: {num_cores}\")"
   ]
  },
  {
   "cell_type": "code",
   "execution_count": 62,
   "id": "e9d3a378-0d82-45bd-8dc5-45dfd755bed1",
   "metadata": {},
   "outputs": [
    {
     "name": "stdout",
     "output_type": "stream",
     "text": [
      "CPU times: total: 1.11 s\n",
      "Wall time: 6.6 s\n"
     ]
    }
   ],
   "source": [
    "%%time\n",
    "\n",
    "for i in range(len(possible_configs)):\n",
    "    for set in dataset[i]:\n",
    "        set_list = []\n",
    "        columns = ['premise','hypothesis']\n",
    "        \n",
    "        for col in columns:\n",
    "            values = [str(item[col]) for item in dataset[i][set]]\n",
    "            # print(values[1:2])\n",
    "            \n",
    "            # Use ThreadPoolExecutor for parallel translation\n",
    "            if __name__ == '__main__':\n",
    "                result =[]\n",
    "                with ThreadPoolExecutor(max_workers=16) as exe:\n",
    "                    # Maps the method with a list of values.\n",
    "                    result = list(exe.map(romanize,values[10:12]))\n",
    "                    \n",
    "                    # batch_size = 100\n",
    "                    # for j in range(0,len(values),batch_size):\n",
    "                    #     j_end = min(j + batch_size, len(values))\n",
    "                    #     res = list(exe.map(translate_text,values[j:j_end]))\n",
    "                    #     time.sleep(2)\n",
    "                    #     result.extend(res)\n",
    "                    \n",
    "            set_list.append(result)\n",
    "\n",
    "        # Create folders for each configuration\n",
    "        current_directory = os.getcwd()\n",
    "        \n",
    "        # Specify the path of the 'config' folder\n",
    "        config_folder_path = os.path.join(current_directory, possible_configs[i])\n",
    "        \n",
    "        # Create the 'config' folder\n",
    "        os.makedirs(config_folder_path, exist_ok=True)       \n",
    "    \n",
    "        # Transpose the 2D list\n",
    "        transposed_data = list(map(list, zip(*set_list)))\n",
    "        path = os.path.join(possible_configs[i], f'{set}.csv')\n",
    "\n",
    "        # append to previosly created csv file in case full dataset was not converted\n",
    "        with open(path, 'a', encoding='utf-8') as f:\n",
    "            # using csv.writer method from CSV package\n",
    "            write = csv.writer(f)\n",
    "            # write.writerow(columns)\n",
    "            write.writerows(transposed_data)"
   ]
  },
  {
   "cell_type": "code",
   "execution_count": 63,
   "id": "7502a1e5-1b17-4a51-a577-cbd88085a7ea",
   "metadata": {},
   "outputs": [
    {
     "name": "stdout",
     "output_type": "stream",
     "text": [
      "['yah vigyaan kee soochana hai|', 'yah vigyaan kee soochana nahin hai|']\n"
     ]
    }
   ],
   "source": [
    "print(result)"
   ]
  }
 ],
 "metadata": {
  "kernelspec": {
   "display_name": "Python 3 (ipykernel)",
   "language": "python",
   "name": "python3"
  },
  "language_info": {
   "codemirror_mode": {
    "name": "ipython",
    "version": 3
   },
   "file_extension": ".py",
   "mimetype": "text/x-python",
   "name": "python",
   "nbconvert_exporter": "python",
   "pygments_lexer": "ipython3",
   "version": "3.11.3"
  }
 },
 "nbformat": 4,
 "nbformat_minor": 5
}
